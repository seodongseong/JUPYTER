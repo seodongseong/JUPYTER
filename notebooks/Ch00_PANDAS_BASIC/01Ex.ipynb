{
 "cells": [
  {
   "cell_type": "code",
   "execution_count": 1,
   "id": "8ddb247b-6407-479f-954b-e1d04d08b9a7",
   "metadata": {},
   "outputs": [
    {
     "data": {
      "text/plain": [
       "0     사과\n",
       "1    바나나\n",
       "2     포도\n",
       "dtype: object"
      ]
     },
     "execution_count": 1,
     "metadata": {},
     "output_type": "execute_result"
    }
   ],
   "source": [
    "import pandas as pd\n",
    "\n",
    "fruits = pd.Series(['사과', '바나나', '포도'])\n",
    "fruits\n"
   ]
  },
  {
   "cell_type": "code",
   "execution_count": null,
   "id": "374644b8-42a4-42f0-8496-eebe96bfd59e",
   "metadata": {},
   "outputs": [],
   "source": [
    "df = pd.DataFrame({\n",
    "    '상품': ['키보드', '마우스', '모니터'],\n",
    "    '가격': [30000, 15000, 200000],\n",
    "    '재고': [10, 25, 7]\n",
    "})\n",
    "df"
   ]
  },
  {
   "cell_type": "code",
   "execution_count": null,
   "id": "de5223c1-cc6f-46c7-a7ed-c471624ca4c6",
   "metadata": {},
   "outputs": [],
   "source": [
    "# Series\n",
    "prod_s = df['상품']\n",
    "\n",
    "# DataFrame\n",
    "prod_df = df['상품']\n",
    "\n",
    "print(prod_s)\n",
    "print(prod_df)\n",
    "\n"
   ]
  },
  {
   "cell_type": "code",
   "execution_count": null,
   "id": "c14c75f0-0e95-4f46-9a9e-bc653093e004",
   "metadata": {},
   "outputs": [],
   "source": [
    "price_view = df[['상품','가격']]\n",
    "price_view"
   ]
  },
  {
   "cell_type": "code",
   "execution_count": null,
   "id": "a9760467-0e5a-47eb-b25f-66706fe09810",
   "metadata": {},
   "outputs": [],
   "source": [
    "expensive = df.loc[df['가격'] >= 20000, ['상품','가격']]\n",
    "expensive"
   ]
  },
  {
   "cell_type": "code",
   "execution_count": null,
   "id": "fc13ab1a-5e91-4ac4-ad59-026fb3f32eb2",
   "metadata": {},
   "outputs": [],
   "source": [
    "df.loc[df['상품'] == '마우스','가격'] = 17000\n",
    "df"
   ]
  },
  {
   "cell_type": "code",
   "execution_count": null,
   "id": "0175c1ea-14c9-4b6a-a060-815d126cf323",
   "metadata": {},
   "outputs": [],
   "source": [
    "sub_iloc = df.iloc[0:2, 0:2]\n",
    "df"
   ]
  },
  {
   "cell_type": "code",
   "execution_count": null,
   "id": "19e57e71-7936-4473-a55f-58df5c7bafac",
   "metadata": {},
   "outputs": [],
   "source": [
    "df['부가세포함가'] = (df['가격'] * 1.10).astype(int)\n",
    "df"
   ]
  }
 ],
 "metadata": {
  "kernelspec": {
   "display_name": "Python 3 (ipykernel)",
   "language": "python",
   "name": "python3"
  },
  "language_info": {
   "codemirror_mode": {
    "name": "ipython",
    "version": 3
   },
   "file_extension": ".py",
   "mimetype": "text/x-python",
   "name": "python",
   "nbconvert_exporter": "python",
   "pygments_lexer": "ipython3",
   "version": "3.11.6"
  }
 },
 "nbformat": 4,
 "nbformat_minor": 5
}
